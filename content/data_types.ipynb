{
 "cells": [
  {
   "cell_type": "markdown",
   "source": [
    "# Datatypes exercise \n",
    "Complete the code in the cells without the `#TESTS` comment. If the corresponding tests block runs, move on to the next exercise. "
   ],
   "metadata": {
    "collapsed": false
   },
   "id": "1b1eaf6b58768c53"
  },
  {
   "cell_type": "code",
   "outputs": [],
   "source": [
    "# Populate the list with five integers\n",
    "my_list = []"
   ],
   "metadata": {
    "collapsed": true,
    "is_executing": true
   },
   "id": "initial_id",
   "execution_count": null
  },
  {
   "cell_type": "code",
   "outputs": [],
   "source": [
    "# TESTS\n",
    "assert len(my_list) == 5\n",
    "assert all([isinstance(x, int) for x in my_list])"
   ],
   "metadata": {
    "collapsed": false
   },
   "id": "a3391f06e70a65b2"
  },
  {
   "cell_type": "markdown",
   "source": [],
   "metadata": {
    "collapsed": false
   },
   "id": "f1f3546706e45076"
  },
  {
   "cell_type": "code",
   "outputs": [],
   "source": [
    "# Create dictionary with string keys and int values from 1 to 3\n",
    "my_dict = {}"
   ],
   "metadata": {
    "collapsed": false
   },
   "id": "ab3c7d41ed645357"
  },
  {
   "cell_type": "code",
   "outputs": [],
   "source": [
    "# TESTS\n",
    "assert len(my_dict) == 3\n",
    "for val in range(1, 4):\n",
    "    expected_key = str(val)\n",
    "    assert expected_key in my_dict\n",
    "    assert my_dict[expected_key] == val"
   ],
   "metadata": {
    "collapsed": false
   },
   "id": "55c00b8e5fecaf45"
  }
 ],
 "metadata": {
  "kernelspec": {
   "display_name": "Python 3",
   "language": "python",
   "name": "python3"
  },
  "language_info": {
   "codemirror_mode": {
    "name": "ipython",
    "version": 2
   },
   "file_extension": ".py",
   "mimetype": "text/x-python",
   "name": "python",
   "nbconvert_exporter": "python",
   "pygments_lexer": "ipython2",
   "version": "2.7.6"
  }
 },
 "nbformat": 4,
 "nbformat_minor": 5
}
