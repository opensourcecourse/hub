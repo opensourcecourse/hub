{
 "cells": [
  {
   "cell_type": "markdown",
   "id": "1b1eaf6b58768c53",
   "metadata": {},
   "source": [
    "# Datatypes exercise \n",
    "The following code snippet doesn't work, try to fix it. Run the cell and the TESTS cell to see if you got it right. "
   ]
  },
  {
   "cell_type": "code",
   "execution_count": null,
   "id": "initial_id",
   "metadata": {
    "is_executing": true,
    "tags": []
   },
   "outputs": [],
   "source": [
    "# Create a quote from Grandpa Simpson in a string \n",
    "grandpa_quote = [\n",
    "    \"I used to be with it,\",\n",
    "    \"but then they changed what it was.\", \n",
    "    \"Now what I'm with isn't it,\",\n",
    "    \"and what's it seems weird and scary to me.\",\n",
    "    \"It will happen to you!\"\n",
    "]\n",
    "\n",
    "# Repeat the last line 3 times with a space added\n",
    "grandpa_quote[-1] = grandpa_quote[-1] + \" \" ** 3\n",
    "\n",
    "# add every other line to a new list\n",
    "new_quote = {}\n",
    "for line_number, line in enumerate(grandpa_quote):\n",
    "    if line_number % 2 == 0:\n",
    "        new_quote[-1] = line"
   ]
  },
  {
   "cell_type": "code",
   "execution_count": null,
   "id": "a3391f06e70a65b2",
   "metadata": {
    "collapsed": false
   },
   "outputs": [],
   "source": [
    "# TESTS\n",
    "assert grandpa_quote[-1].count(\"!\") == 3\n",
    "\n",
    "assert len(new_quote) == (len(grandpa_quote) // 2 + 1)"
   ]
  }
 ],
 "metadata": {
  "kernelspec": {
   "display_name": "Python 3 (ipykernel)",
   "language": "python",
   "name": "python3"
  },
  "language_info": {
   "codemirror_mode": {
    "name": "ipython",
    "version": 3
   },
   "file_extension": ".py",
   "mimetype": "text/x-python",
   "name": "python",
   "nbconvert_exporter": "python",
   "pygments_lexer": "ipython3",
   "version": "3.8.5"
  }
 },
 "nbformat": 4,
 "nbformat_minor": 5
}
